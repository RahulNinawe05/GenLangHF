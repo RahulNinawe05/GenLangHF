{
 "cells": [
  {
   "cell_type": "markdown",
   "id": "c1674bec",
   "metadata": {},
   "source": [
    "## Named Entity Recognition\n",
    "\n",
    "NER automates the extraction of structured information from unstructured text, enabling machines to understand and categorize entities meaningfully. NER systems use algorithms that analyze text to detect entities and classify them based on their context and semantic significance, which can enhance the precision of other NLP tasks\n",
    "\n",
    "**Summary**:- It helps in identifying names of **people, places, organizations, dates, money, etc.** from a sentence or document.\n"
   ]
  },
  {
   "cell_type": "code",
   "execution_count": 1,
   "id": "a1e41d19",
   "metadata": {},
   "outputs": [],
   "source": [
    "sentence = \"Elon Musk, the CEO of Tesla, earned $10 billion in 2021 and held a meeting at 3:00 PM on Monday in California.\""
   ]
  },
  {
   "cell_type": "code",
   "execution_count": 2,
   "id": "3fbc0c89",
   "metadata": {},
   "outputs": [],
   "source": [
    "import nltk\n",
    "words = nltk.word_tokenize(sentence)"
   ]
  },
  {
   "cell_type": "code",
   "execution_count": null,
   "id": "e5125f26",
   "metadata": {},
   "outputs": [],
   "source": [
    "tag_elements = nltk.pos_tag(words)"
   ]
  },
  {
   "cell_type": "markdown",
   "id": "6512f411",
   "metadata": {},
   "source": [
    "## maxent_ne_chunker:-\n",
    "**This is a Maximum Entropy Named Entity Chunker.\n",
    "It is a pre-trained model used to identify named entities (like PERSON, ORGANIZATION, LOCATION, etc.) from POS-tagged text.**"
   ]
  },
  {
   "cell_type": "code",
   "execution_count": 5,
   "id": "32afe10b",
   "metadata": {},
   "outputs": [],
   "source": [
    "nltk.download('maxent_ne_chunker')"
   ]
  },
  {
   "cell_type": "code",
   "execution_count": 6,
   "id": "f7dc8ec9",
   "metadata": {},
   "outputs": [],
   "source": [
    "nltk.download('words')"
   ]
  },
  {
   "cell_type": "code",
   "execution_count": 7,
   "id": "3645b018",
   "metadata": {},
   "outputs": [],
   "source": [
    "# !pip install svgling\n"
   ]
  },
  {
   "cell_type": "code",
   "execution_count": 8,
   "id": "a4ed01a3",
   "metadata": {},
   "outputs": [],
   "source": [
    "s = nltk.ne_chunk(tag_elements)\n",
    "# print(s) # deffencece is this (text formate)\n",
    "s"
   ]
  }
 ],
 "metadata": {
  "kernelspec": {
   "display_name": ".venv",
   "language": "python",
   "name": "python3"
  },
  "language_info": {
   "codemirror_mode": {
    "name": "ipython",
    "version": 3
   },
   "file_extension": ".py",
   "mimetype": "text/x-python",
   "name": "python",
   "nbconvert_exporter": "python",
   "pygments_lexer": "ipython3",
   "version": "3.10.0"
  }
 },
 "nbformat": 4,
 "nbformat_minor": 5
}

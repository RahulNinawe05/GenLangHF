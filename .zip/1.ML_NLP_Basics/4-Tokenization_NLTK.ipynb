{
 "cells": [
  {
   "cell_type": "markdown",
   "id": "d99f36bd",
   "metadata": {},
   "source": [
    "## Tokenization in NLP \n",
    "means breaking a text into smaller parts (called tokens). In most cases, these tokens are words or sentences.\n",
    "\n",
    "## What is Tokenization in NLP?\n",
    "**Tokenization is the process of splitting text into smaller pieces, called tokens.**\n",
    "### These tokens can be:\n",
    "- Words → word-level tokenization\n",
    "- Characters → character-level tokenization\n",
    "- Subwords → subword tokenization (e.g., Byte-Pair Encoding)\n",
    "- Sentences → sentence-level tokenization"
   ]
  },
  {
   "cell_type": "code",
   "execution_count": null,
   "id": "fc44b4c4",
   "metadata": {},
   "outputs": [
    {
     "name": "stdout",
     "output_type": "stream",
     "text": [
      "Requirement already satisfied: nltk in e:\\x\\ml_nlp_basics\\venv\\lib\\site-packages (3.9.1)\n",
      "Requirement already satisfied: click in e:\\x\\ml_nlp_basics\\venv\\lib\\site-packages (from nltk) (8.2.1)\n",
      "Requirement already satisfied: joblib in e:\\x\\ml_nlp_basics\\venv\\lib\\site-packages (from nltk) (1.5.1)\n",
      "Requirement already satisfied: regex>=2021.8.3 in e:\\x\\ml_nlp_basics\\venv\\lib\\site-packages (from nltk) (2024.11.6)\n",
      "Requirement already satisfied: tqdm in e:\\x\\ml_nlp_basics\\venv\\lib\\site-packages (from nltk) (4.67.1)\n",
      "Requirement already satisfied: colorama in e:\\x\\ml_nlp_basics\\venv\\lib\\site-packages (from click->nltk) (0.4.6)\n",
      "Note: you may need to restart the kernel to use updated packages.\n"
     ]
    }
   ],
   "source": [
    "# pip install nltk"
   ]
  },
  {
   "cell_type": "code",
   "execution_count": 41,
   "id": "9e2d2592",
   "metadata": {},
   "outputs": [],
   "source": [
    "corpus = \"\"\"Hello My Name 😂 is Rahul Ninawe, I Like to Learn Langchain. I Love it to....\"\"\""
   ]
  },
  {
   "cell_type": "code",
   "execution_count": 42,
   "id": "697fe6b6",
   "metadata": {},
   "outputs": [
    {
     "name": "stdout",
     "output_type": "stream",
     "text": [
      "Hello My Name 😂 is Rahul Ninawe, I Like to Learn Langchain. I Love it to....\n"
     ]
    }
   ],
   "source": [
    "print(corpus)"
   ]
  },
  {
   "cell_type": "code",
   "execution_count": 43,
   "id": "4312b4c7",
   "metadata": {},
   "outputs": [],
   "source": [
    "from nltk.tokenize import word_tokenize\n",
    "x = word_tokenize(corpus)"
   ]
  },
  {
   "cell_type": "code",
   "execution_count": 44,
   "id": "c7c8cf7a",
   "metadata": {},
   "outputs": [
    {
     "data": {
      "text/plain": [
       "['Hello',\n",
       " 'My',\n",
       " 'Name',\n",
       " '😂',\n",
       " 'is',\n",
       " 'Rahul',\n",
       " 'Ninawe',\n",
       " ',',\n",
       " 'I',\n",
       " 'Like',\n",
       " 'to',\n",
       " 'Learn',\n",
       " 'Langchain',\n",
       " '.',\n",
       " 'I',\n",
       " 'Love',\n",
       " 'it',\n",
       " 'to',\n",
       " '....']"
      ]
     },
     "execution_count": 44,
     "metadata": {},
     "output_type": "execute_result"
    }
   ],
   "source": [
    "x"
   ]
  },
  {
   "cell_type": "code",
   "execution_count": 45,
   "id": "641f2f25",
   "metadata": {},
   "outputs": [],
   "source": [
    "from nltk.tokenize import sent_tokenize\n",
    "y = sent_tokenize(corpus)"
   ]
  },
  {
   "cell_type": "code",
   "execution_count": 46,
   "id": "9dbc78ce",
   "metadata": {},
   "outputs": [
    {
     "data": {
      "text/plain": [
       "['Hello My Name 😂 is Rahul Ninawe, I Like to Learn Langchain.',\n",
       " 'I Love it to....']"
      ]
     },
     "execution_count": 46,
     "metadata": {},
     "output_type": "execute_result"
    }
   ],
   "source": [
    "y"
   ]
  },
  {
   "cell_type": "code",
   "execution_count": 47,
   "id": "477efeb1",
   "metadata": {},
   "outputs": [],
   "source": [
    "## handal information text and emoji like that...\n",
    "from nltk.tokenize import casual_tokenize\n",
    "r = casual_tokenize(corpus)"
   ]
  },
  {
   "cell_type": "code",
   "execution_count": 48,
   "id": "2224a65f",
   "metadata": {},
   "outputs": [
    {
     "name": "stdout",
     "output_type": "stream",
     "text": [
      "['Hello', 'My', 'Name', '😂', 'is', 'Rahul', 'Ninawe', ',', 'I', 'Like', 'to', 'Learn', 'Langchain', '.', 'I', 'Love', 'it', 'to', '...']\n"
     ]
    }
   ],
   "source": [
    "print(r)"
   ]
  },
  {
   "cell_type": "markdown",
   "id": "44e9b144",
   "metadata": {},
   "source": [
    "### TreebankWordTokenizer =\n",
    "- **tokenizer for formal, well-written English text**\n",
    "- **It splits punctuation and contractions accurately**\n",
    "- **Useful for tasks like POS tagging, parsing, and formal NLP tasks**"
   ]
  },
  {
   "cell_type": "code",
   "execution_count": 49,
   "id": "dccc4972",
   "metadata": {},
   "outputs": [],
   "source": [
    "from nltk.tokenize import TreebankWordTokenizer\n",
    "toke_nise = TreebankWordTokenizer()\n",
    "tok = toke_nise.tokenize(corpus)"
   ]
  },
  {
   "cell_type": "code",
   "execution_count": 50,
   "id": "d2ebd7f1",
   "metadata": {},
   "outputs": [
    {
     "data": {
      "text/plain": [
       "['Hello',\n",
       " 'My',\n",
       " 'Name',\n",
       " '😂',\n",
       " 'is',\n",
       " 'Rahul',\n",
       " 'Ninawe',\n",
       " ',',\n",
       " 'I',\n",
       " 'Like',\n",
       " 'to',\n",
       " 'Learn',\n",
       " 'Langchain.',\n",
       " 'I',\n",
       " 'Love',\n",
       " 'it',\n",
       " 'to',\n",
       " '...',\n",
       " '.']"
      ]
     },
     "execution_count": 50,
     "metadata": {},
     "output_type": "execute_result"
    }
   ],
   "source": [
    "tok"
   ]
  }
 ],
 "metadata": {
  "kernelspec": {
   "display_name": ".venv",
   "language": "python",
   "name": "python3"
  },
  "language_info": {
   "codemirror_mode": {
    "name": "ipython",
    "version": 3
   },
   "file_extension": ".py",
   "mimetype": "text/x-python",
   "name": "python",
   "nbconvert_exporter": "python",
   "pygments_lexer": "ipython3",
   "version": "3.10.0"
  }
 },
 "nbformat": 4,
 "nbformat_minor": 5
}

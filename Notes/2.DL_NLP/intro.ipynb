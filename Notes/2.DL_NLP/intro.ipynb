{
 "cells": [
  {
   "cell_type": "markdown",
   "id": "0f4faa50",
   "metadata": {},
   "source": [
    "- Deep Lerning  ----> sequencial Data = change the sequency of word in text \n",
    "    - text genration = predict the (after the word)\n",
    "    - sequence data very imporstant\n",
    "    "
   ]
  },
  {
   "cell_type": "markdown",
   "id": "1926b717",
   "metadata": {},
   "source": [
    "# ANN :- Artificial Neural Network  \n",
    "## Two types \n",
    "- Classification (कैसी चीज़ है ये बताना), Definition: Predicting a category\n",
    "    - Email is spam or not spam\n",
    "-  Regression (कितना है ये बताना), Definition: Predicting a number or continuous value\n",
    "    - Predicting sentence similarity score between 0 and 1\n",
    "- Think of ANN as a set of layers of neurons (nodes):\n",
    "-**Input Layer → Hidden Layer(s) → Output Layer**\n",
    "    - Each layer is made up of \"neurons\" that process and transfer data.\n",
    "        - Recognizing patterns (like identifying a cat in a photo)\n",
    "        - Making decisions (like whether an email is spam or not)\n",
    "        - Predicting the future (like price of a stock) \n",
    "- forword and backword propogation\n",
    "- Sequence does NOT matter in basic ANN. For NLP and time-series, use sequence-aware models like RNN, LSTM, or Transformers.\n",
    "\n"
   ]
  },
  {
   "cell_type": "markdown",
   "id": "53bec6cb",
   "metadata": {},
   "source": [
    "RNN :- same like ANN ,but in hidden layer share the information"
   ]
  },
  {
   "cell_type": "markdown",
   "id": "5ff2d32c",
   "metadata": {},
   "source": [
    "##### NLP IN DEEP LERNING :- \n",
    "- SIMPLE RNN ---> LSTM/GRU RNN ---> BIDERECTION RNN----> ENCODER DECODER ----> SELF ATTENTION ----> TRANSFORMORE"
   ]
  }
 ],
 "metadata": {
  "language_info": {
   "name": "python"
  }
 },
 "nbformat": 4,
 "nbformat_minor": 5
}

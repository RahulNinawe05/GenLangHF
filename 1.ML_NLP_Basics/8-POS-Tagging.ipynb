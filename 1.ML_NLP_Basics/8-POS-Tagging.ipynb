{
 "cells": [
  {
   "cell_type": "code",
   "execution_count": 1,
   "id": "c3a95053",
   "metadata": {},
   "outputs": [],
   "source": [
    "## speech of SindhuTai Sapakel\n",
    "\n",
    "paragrapha = \"\"\"\n",
    "Speech on Sindhutai Sapkal (The Mother of Orphans)\n",
    "Good morning/afternoon everyone,\n",
    "Respected principal, teachers, and my dear friends,\n",
    "Today, I feel deeply honored to speak about a woman whose life is a symbol of courage, compassion, and selfless love — Sindhutai Sapkal, also known as the Mother of Orphans.\n",
    "Sindhutai Sapkal was born on 14th November 1948, in a small village in Maharashtra. She came from a very poor family and faced many challenges right from childhood. In those days, educating a girl was not accepted in society. But her father believed in her and helped her study secretly, even though her mother was against it.\n",
    "At just 12 years of age, Sindhutai was married to a man 20 years older than her. Her married life was filled with hardship and cruelty. When she was nine months pregnant, she was thrown out of the house. Alone, helpless, and hungry, she gave birth in a cowshed, with no one to help her. But she didn't give up.\n",
    "She started begging at railway stations and temples to survive. During this time, she saw many orphaned children suffering without food, shelter, or love. Instead of thinking only about her own pain, she adopted those children as her own. She begged for food — not just for herself, but for hundreds of children.\n",
    "Over the years, Sindhutai adopted and raised more than 1,500 orphaned children. She gave them a home, education, and hope. She never took money for herself, and whatever she received, she spent on her children.\n",
    "Her own biological daughter was sent to a government hostel — so that she wouldn't show partiality. Such was her sense of fairness and selfless love.\n",
    "For her incredible service to humanity, Sindhutai received over 750 awards, including the Padma Shri in 2021. But for her, the biggest reward was hearing someone call her \"Aai\" — mother.\n",
    "Dear friends,\n",
    "Sindhutai Sapkal’s life teaches us that no matter how difficult our circumstances are, we can choose kindness. She turned her pain into purpose. She proved that one woman, even with empty hands, can change thousands of lives — with courage, willpower, and a heart full of love.\n",
    "Let us salute this great soul, and try to follow her path by helping others in need.\n",
    "Thank you.\n",
    "Jai Hind!.....\n",
    "\"\"\""
   ]
  },
  {
   "cell_type": "code",
   "execution_count": 2,
   "id": "fb981caa",
   "metadata": {},
   "outputs": [],
   "source": [
    "import nltk\n",
    "from nltk.corpus import stopwords\n",
    "sentences = nltk.sent_tokenize(paragrapha)"
   ]
  },
  {
   "cell_type": "code",
   "execution_count": 3,
   "id": "1ab8af66",
   "metadata": {},
   "outputs": [
    {
     "data": {
      "text/plain": [
       "['\\nSpeech on Sindhutai Sapkal (The Mother of Orphans)\\nGood morning/afternoon everyone,\\nRespected principal, teachers, and my dear friends,\\nToday, I feel deeply honored to speak about a woman whose life is a symbol of courage, compassion, and selfless love — Sindhutai Sapkal, also known as the Mother of Orphans.',\n",
       " 'Sindhutai Sapkal was born on 14th November 1948, in a small village in Maharashtra.',\n",
       " 'She came from a very poor family and faced many challenges right from childhood.',\n",
       " 'In those days, educating a girl was not accepted in society.',\n",
       " 'But her father believed in her and helped her study secretly, even though her mother was against it.',\n",
       " 'At just 12 years of age, Sindhutai was married to a man 20 years older than her.',\n",
       " 'Her married life was filled with hardship and cruelty.',\n",
       " 'When she was nine months pregnant, she was thrown out of the house.',\n",
       " 'Alone, helpless, and hungry, she gave birth in a cowshed, with no one to help her.',\n",
       " \"But she didn't give up.\",\n",
       " 'She started begging at railway stations and temples to survive.',\n",
       " 'During this time, she saw many orphaned children suffering without food, shelter, or love.',\n",
       " 'Instead of thinking only about her own pain, she adopted those children as her own.',\n",
       " 'She begged for food — not just for herself, but for hundreds of children.',\n",
       " 'Over the years, Sindhutai adopted and raised more than 1,500 orphaned children.',\n",
       " 'She gave them a home, education, and hope.',\n",
       " 'She never took money for herself, and whatever she received, she spent on her children.',\n",
       " \"Her own biological daughter was sent to a government hostel — so that she wouldn't show partiality.\",\n",
       " 'Such was her sense of fairness and selfless love.',\n",
       " 'For her incredible service to humanity, Sindhutai received over 750 awards, including the Padma Shri in 2021.',\n",
       " 'But for her, the biggest reward was hearing someone call her \"Aai\" — mother.',\n",
       " 'Dear friends,\\nSindhutai Sapkal’s life teaches us that no matter how difficult our circumstances are, we can choose kindness.',\n",
       " 'She turned her pain into purpose.',\n",
       " 'She proved that one woman, even with empty hands, can change thousands of lives — with courage, willpower, and a heart full of love.',\n",
       " 'Let us salute this great soul, and try to follow her path by helping others in need.',\n",
       " 'Thank you.',\n",
       " 'Jai Hind!.....']"
      ]
     },
     "execution_count": 3,
     "metadata": {},
     "output_type": "execute_result"
    }
   ],
   "source": [
    "sentences"
   ]
  },
  {
   "cell_type": "code",
   "execution_count": null,
   "id": "da48cc13",
   "metadata": {},
   "outputs": [
    {
     "name": "stderr",
     "output_type": "stream",
     "text": [
      "[nltk_data] Downloading package averaged_perceptron_tagger_eng to\n",
      "[nltk_data]     C:\\Users\\ninaw/nltk_data...\n",
      "[nltk_data]   Package averaged_perceptron_tagger_eng is already up-to-\n",
      "[nltk_data]       date!\n",
      "[nltk_data] Downloading package punkt to C:\\Users\\ninaw/nltk_data...\n",
      "[nltk_data]   Package punkt is already up-to-date!\n",
      "[nltk_data] Downloading package stopwords to\n",
      "[nltk_data]     C:\\Users\\ninaw/nltk_data...\n",
      "[nltk_data]   Package stopwords is already up-to-date!\n"
     ]
    },
    {
     "data": {
      "text/plain": [
       "True"
      ]
     },
     "execution_count": 4,
     "metadata": {},
     "output_type": "execute_result"
    }
   ],
   "source": [
    "import nltk\n",
    "nltk.download('averaged_perceptron_tagger_eng') # pos-tag\n",
    "nltk.download('punkt')\n",
    "nltk.download('stopwords')"
   ]
  },
  {
   "cell_type": "code",
   "execution_count": 5,
   "id": "7fa0fb78",
   "metadata": {},
   "outputs": [
    {
     "name": "stdout",
     "output_type": "stream",
     "text": [
      "[('Speech', 'NNP'), ('Sindhutai', 'NNP'), ('Sapkal', 'NNP'), ('(', '('), ('The', 'DT'), ('Mother', 'NNP'), ('Orphans', 'NNPS'), (')', ')'), ('Good', 'NNP'), ('morning/afternoon', 'NN'), ('everyone', 'NN'), (',', ','), ('Respected', 'VBN'), ('principal', 'NN'), (',', ','), ('teachers', 'NNS'), (',', ','), ('dear', 'JJ'), ('friends', 'NNS'), (',', ','), ('Today', 'NNP'), (',', ','), ('I', 'PRP'), ('feel', 'VBP'), ('deeply', 'RB'), ('honored', 'VBN'), ('speak', 'JJ'), ('woman', 'NN'), ('whose', 'WP$'), ('life', 'NN'), ('symbol', 'NN'), ('courage', 'NN'), (',', ','), ('compassion', 'NN'), (',', ','), ('selfless', 'JJ'), ('love', 'NN'), ('—', 'NNP'), ('Sindhutai', 'NNP'), ('Sapkal', 'NNP'), (',', ','), ('also', 'RB'), ('known', 'VBN'), ('Mother', 'NNP'), ('Orphans', 'NNPS'), ('.', '.')]\n",
      "[('Sindhutai', 'NNP'), ('Sapkal', 'NNP'), ('born', 'VBD'), ('14th', 'CD'), ('November', 'NNP'), ('1948', 'CD'), (',', ','), ('small', 'JJ'), ('village', 'NN'), ('Maharashtra', 'NNP'), ('.', '.')]\n",
      "[('She', 'PRP'), ('came', 'VBD'), ('poor', 'JJ'), ('family', 'NN'), ('faced', 'VBD'), ('many', 'JJ'), ('challenges', 'NNS'), ('right', 'RB'), ('childhood', 'NN'), ('.', '.')]\n",
      "[('In', 'IN'), ('days', 'NNS'), (',', ','), ('educating', 'VBG'), ('girl', 'NN'), ('accepted', 'VBD'), ('society', 'NN'), ('.', '.')]\n",
      "[('But', 'CC'), ('father', 'RB'), ('believed', 'VBD'), ('helped', 'VBD'), ('study', 'VB'), ('secretly', 'RB'), (',', ','), ('even', 'RB'), ('though', 'IN'), ('mother', 'NN'), ('.', '.')]\n",
      "[('At', 'IN'), ('12', 'CD'), ('years', 'NNS'), ('age', 'NN'), (',', ','), ('Sindhutai', 'NNP'), ('married', 'VBD'), ('man', 'NN'), ('20', 'CD'), ('years', 'NNS'), ('older', 'JJR'), ('.', '.')]\n",
      "[('Her', 'PRP$'), ('married', 'JJ'), ('life', 'NN'), ('filled', 'VBN'), ('hardship', 'NN'), ('cruelty', 'NN'), ('.', '.')]\n",
      "[('When', 'WRB'), ('nine', 'CD'), ('months', 'NNS'), ('pregnant', 'JJ'), (',', ','), ('thrown', 'JJ'), ('house', 'NN'), ('.', '.')]\n",
      "[('Alone', 'RB'), (',', ','), ('helpless', 'JJ'), (',', ','), ('hungry', 'JJ'), (',', ','), ('gave', 'VBD'), ('birth', 'NN'), ('cowshed', 'NN'), (',', ','), ('one', 'CD'), ('help', 'NN'), ('.', '.')]\n",
      "[('But', 'CC'), (\"n't\", 'RB'), ('give', 'VB'), ('.', '.')]\n",
      "[('She', 'PRP'), ('started', 'VBD'), ('begging', 'VBG'), ('railway', 'NN'), ('stations', 'NNS'), ('temples', 'NNS'), ('survive', 'VBP'), ('.', '.')]\n",
      "[('During', 'IN'), ('time', 'NN'), (',', ','), ('saw', 'VBD'), ('many', 'JJ'), ('orphaned', 'JJ'), ('children', 'NNS'), ('suffering', 'VBG'), ('without', 'IN'), ('food', 'NN'), (',', ','), ('shelter', 'NN'), (',', ','), ('love', 'NN'), ('.', '.')]\n",
      "[('Instead', 'RB'), ('thinking', 'VBG'), ('pain', 'NN'), (',', ','), ('adopted', 'VBD'), ('children', 'NNS'), ('.', '.')]\n",
      "[('She', 'PRP'), ('begged', 'VBD'), ('food', 'NN'), ('—', 'NN'), (',', ','), ('hundreds', 'NNS'), ('children', 'NNS'), ('.', '.')]\n",
      "[('Over', 'IN'), ('years', 'NNS'), (',', ','), ('Sindhutai', 'NNP'), ('adopted', 'VBD'), ('raised', 'VBD'), ('1,500', 'CD'), ('orphaned', 'JJ'), ('children', 'NNS'), ('.', '.')]\n",
      "[('She', 'PRP'), ('gave', 'VBD'), ('home', 'NN'), (',', ','), ('education', 'NN'), (',', ','), ('hope', 'NN'), ('.', '.')]\n",
      "[('She', 'PRP'), ('never', 'RB'), ('took', 'VBD'), ('money', 'NN'), (',', ','), ('whatever', 'WDT'), ('received', 'VBD'), (',', ','), ('spent', 'JJ'), ('children', 'NNS'), ('.', '.')]\n",
      "[('Her', 'PRP$'), ('biological', 'JJ'), ('daughter', 'NN'), ('sent', 'VBD'), ('government', 'NN'), ('hostel', 'NN'), ('—', 'NNP'), ('would', 'MD'), (\"n't\", 'RB'), ('show', 'VB'), ('partiality', 'NN'), ('.', '.')]\n",
      "[('Such', 'JJ'), ('sense', 'NN'), ('fairness', 'NN'), ('selfless', 'NN'), ('love', 'NN'), ('.', '.')]\n",
      "[('For', 'IN'), ('incredible', 'JJ'), ('service', 'NN'), ('humanity', 'NN'), (',', ','), ('Sindhutai', 'NNP'), ('received', 'VBD'), ('750', 'CD'), ('awards', 'NNS'), (',', ','), ('including', 'VBG'), ('Padma', 'NNP'), ('Shri', 'NNP'), ('2021', 'CD'), ('.', '.')]\n",
      "[('But', 'CC'), (',', ','), ('biggest', 'JJS'), ('reward', 'NN'), ('hearing', 'VBG'), ('someone', 'NN'), ('call', 'NN'), ('``', '``'), ('Aai', 'NNP'), (\"''\", \"''\"), ('—', 'NN'), ('mother', 'NN'), ('.', '.')]\n",
      "[('Dear', 'NNP'), ('friends', 'NNS'), (',', ','), ('Sindhutai', 'NNP'), ('Sapkal', 'NNP'), ('’', 'NNP'), ('life', 'NN'), ('teaches', 'NNS'), ('us', 'PRP'), ('matter', 'VBP'), ('difficult', 'JJ'), ('circumstances', 'NNS'), (',', ','), ('choose', 'JJ'), ('kindness', 'NN'), ('.', '.')]\n",
      "[('She', 'PRP'), ('turned', 'VBD'), ('pain', 'RB'), ('purpose', 'JJ'), ('.', '.')]\n",
      "[('She', 'PRP'), ('proved', 'VBD'), ('one', 'CD'), ('woman', 'NN'), (',', ','), ('even', 'RB'), ('empty', 'JJ'), ('hands', 'NNS'), (',', ','), ('change', 'NN'), ('thousands', 'NNS'), ('lives', 'VBZ'), ('—', 'JJ'), ('courage', 'NN'), (',', ','), ('willpower', 'JJR'), (',', ','), ('heart', 'NN'), ('full', 'JJ'), ('love', 'NN'), ('.', '.')]\n",
      "[('Let', 'VB'), ('us', 'PRP'), ('salute', 'VB'), ('great', 'JJ'), ('soul', 'NN'), (',', ','), ('try', 'VB'), ('follow', 'JJ'), ('path', 'NN'), ('helping', 'VBG'), ('others', 'NNS'), ('need', 'VBP'), ('.', '.')]\n",
      "[('Thank', 'NNP'), ('.', '.')]\n",
      "[('Jai', 'NNP'), ('Hind', 'NNP'), ('!', '.'), ('.....', 'NN')]\n"
     ]
    }
   ],
   "source": [
    "## we will find out pos tag\n",
    "for i in range(len(sentences)):\n",
    "    words = nltk.word_tokenize(sentences[i])\n",
    "    words = [word for word in words if word not in set(stopwords.words('english'))]\n",
    "    pos_tag = nltk.pos_tag(words)\n",
    "    print(pos_tag)\n"
   ]
  },
  {
   "cell_type": "code",
   "execution_count": 6,
   "id": "4ab86524",
   "metadata": {},
   "outputs": [
    {
     "data": {
      "text/plain": [
       "[[('I', 'PRP'),\n",
       "  ('Like', 'IN'),\n",
       "  ('To', 'TO'),\n",
       "  ('Lerning', 'VBG'),\n",
       "  ('To', 'TO'),\n",
       "  ('Langchain', 'VB')]]"
      ]
     },
     "execution_count": 6,
     "metadata": {},
     "output_type": "execute_result"
    }
   ],
   "source": [
    "nltk.pos_tag_sents([[\"I\", \"Like\", \"To\", \"Lerning\", \"To\", \"Langchain\"]])\n"
   ]
  },
  {
   "cell_type": "code",
   "execution_count": 7,
   "id": "3ce8a0a9",
   "metadata": {},
   "outputs": [
    {
     "data": {
      "text/plain": [
       "['I', 'Like', 'To', 'Lerning', 'To', 'Langchain']"
      ]
     },
     "execution_count": 7,
     "metadata": {},
     "output_type": "execute_result"
    }
   ],
   "source": [
    "\"I Like To Lerning To Langchain\".split()"
   ]
  },
  {
   "cell_type": "code",
   "execution_count": 8,
   "id": "c17ff2a0",
   "metadata": {},
   "outputs": [
    {
     "name": "stdout",
     "output_type": "stream",
     "text": [
      "[('I', 'PRP'), ('Like', 'IN'), ('To', 'TO'), ('Lerning', 'VBG'), ('To', 'TO'), ('Langchain', 'VB')]\n"
     ]
    }
   ],
   "source": [
    "print(nltk.pos_tag(\"I Like To Lerning To Langchain\".split()))"
   ]
  }
 ],
 "metadata": {
  "kernelspec": {
   "display_name": "Python 3",
   "language": "python",
   "name": "python3"
  },
  "language_info": {
   "codemirror_mode": {
    "name": "ipython",
    "version": 3
   },
   "file_extension": ".py",
   "mimetype": "text/x-python",
   "name": "python",
   "nbconvert_exporter": "python",
   "pygments_lexer": "ipython3",
   "version": "3.13.1"
  }
 },
 "nbformat": 4,
 "nbformat_minor": 5
}

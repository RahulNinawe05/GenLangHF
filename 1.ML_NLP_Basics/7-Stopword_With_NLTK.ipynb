{
 "cells": [
  {
   "cell_type": "markdown",
   "id": "dbfd4d77",
   "metadata": {},
   "source": [
    "## Stopword\n",
    "Stopwords are words like **“is”, “a”, “the”** that are so common they’re often **removed to focus on the important content**."
   ]
  },
  {
   "cell_type": "code",
   "execution_count": 1,
   "id": "cf34018e",
   "metadata": {},
   "outputs": [],
   "source": [
    "corpus = \"\"\"\n",
    "Sindhutai Sapkal was born on November 14, 1948, in a poor family in Maharashtra.\n",
    "She faced discrimination as a girl and struggled to get an education.\n",
    "Her father supported her secretly to study, even though her mother opposed it.\n",
    "She was married off at the age of 12 to a man 20 years older.\n",
    "Her life after marriage was filled with hardships and abuse.\n",
    "At the age of 20, she was abandoned by her husband while pregnant.\n",
    "She gave birth in a cowshed, all alone and helpless.\n",
    "Left with nothing, she began begging at railway stations and temples.\n",
    "During this time, she saw many orphaned children suffering like her.\n",
    "She started adopting and caring for these orphans as her own children.\n",
    "Over time, she became known as the “Mother of Orphans.”\n",
    "She raised more than 1,500 orphaned children throughout her life.\n",
    "To support them, she gave speeches and used the money to feed them.\n",
    "She turned her pain into a mission of love, strength, and care.\n",
    "Her work received national recognition and many awards, including the Padma Shri.\n",
    "Sindhutai’s story is a true example of courage, compassion, and selfless service.\n",
    "---\"\"\""
   ]
  },
  {
   "cell_type": "code",
   "execution_count": 2,
   "id": "06af3606",
   "metadata": {},
   "outputs": [],
   "source": [
    "from nltk.stem import PorterStemmer"
   ]
  },
  {
   "cell_type": "code",
   "execution_count": 3,
   "id": "12b7ebc9",
   "metadata": {},
   "outputs": [],
   "source": [
    "from nltk.corpus import stopwords"
   ]
  },
  {
   "cell_type": "code",
   "execution_count": 4,
   "id": "2ebeb11b",
   "metadata": {},
   "outputs": [
    {
     "name": "stderr",
     "output_type": "stream",
     "text": [
      "[nltk_data] Error loading stopwords: <urlopen error [Errno 11001]\n",
      "[nltk_data]     getaddrinfo failed>\n"
     ]
    },
    {
     "data": {
      "text/plain": [
       "False"
      ]
     },
     "execution_count": 4,
     "metadata": {},
     "output_type": "execute_result"
    }
   ],
   "source": [
    "import nltk\n",
    "nltk.download('stopwords')"
   ]
  },
  {
   "cell_type": "code",
   "execution_count": 6,
   "id": "d5bded64",
   "metadata": {},
   "outputs": [
    {
     "data": {
      "text/plain": [
       "['a',\n",
       " 'about',\n",
       " 'above',\n",
       " 'after',\n",
       " 'again',\n",
       " 'against',\n",
       " 'ain',\n",
       " 'all',\n",
       " 'am',\n",
       " 'an',\n",
       " 'and',\n",
       " 'any',\n",
       " 'are',\n",
       " 'aren',\n",
       " \"aren't\",\n",
       " 'as',\n",
       " 'at',\n",
       " 'be',\n",
       " 'because',\n",
       " 'been',\n",
       " 'before',\n",
       " 'being',\n",
       " 'below',\n",
       " 'between',\n",
       " 'both',\n",
       " 'but',\n",
       " 'by',\n",
       " 'can',\n",
       " 'couldn',\n",
       " \"couldn't\",\n",
       " 'd',\n",
       " 'did',\n",
       " 'didn',\n",
       " \"didn't\",\n",
       " 'do',\n",
       " 'does',\n",
       " 'doesn',\n",
       " \"doesn't\",\n",
       " 'doing',\n",
       " 'don',\n",
       " \"don't\",\n",
       " 'down',\n",
       " 'during',\n",
       " 'each',\n",
       " 'few',\n",
       " 'for',\n",
       " 'from',\n",
       " 'further',\n",
       " 'had',\n",
       " 'hadn',\n",
       " \"hadn't\",\n",
       " 'has',\n",
       " 'hasn',\n",
       " \"hasn't\",\n",
       " 'have',\n",
       " 'haven',\n",
       " \"haven't\",\n",
       " 'having',\n",
       " 'he',\n",
       " \"he'd\",\n",
       " \"he'll\",\n",
       " 'her',\n",
       " 'here',\n",
       " 'hers',\n",
       " 'herself',\n",
       " \"he's\",\n",
       " 'him',\n",
       " 'himself',\n",
       " 'his',\n",
       " 'how',\n",
       " 'i',\n",
       " \"i'd\",\n",
       " 'if',\n",
       " \"i'll\",\n",
       " \"i'm\",\n",
       " 'in',\n",
       " 'into',\n",
       " 'is',\n",
       " 'isn',\n",
       " \"isn't\",\n",
       " 'it',\n",
       " \"it'd\",\n",
       " \"it'll\",\n",
       " \"it's\",\n",
       " 'its',\n",
       " 'itself',\n",
       " \"i've\",\n",
       " 'just',\n",
       " 'll',\n",
       " 'm',\n",
       " 'ma',\n",
       " 'me',\n",
       " 'mightn',\n",
       " \"mightn't\",\n",
       " 'more',\n",
       " 'most',\n",
       " 'mustn',\n",
       " \"mustn't\",\n",
       " 'my',\n",
       " 'myself',\n",
       " 'needn',\n",
       " \"needn't\",\n",
       " 'no',\n",
       " 'nor',\n",
       " 'not',\n",
       " 'now',\n",
       " 'o',\n",
       " 'of',\n",
       " 'off',\n",
       " 'on',\n",
       " 'once',\n",
       " 'only',\n",
       " 'or',\n",
       " 'other',\n",
       " 'our',\n",
       " 'ours',\n",
       " 'ourselves',\n",
       " 'out',\n",
       " 'over',\n",
       " 'own',\n",
       " 're',\n",
       " 's',\n",
       " 'same',\n",
       " 'shan',\n",
       " \"shan't\",\n",
       " 'she',\n",
       " \"she'd\",\n",
       " \"she'll\",\n",
       " \"she's\",\n",
       " 'should',\n",
       " 'shouldn',\n",
       " \"shouldn't\",\n",
       " \"should've\",\n",
       " 'so',\n",
       " 'some',\n",
       " 'such',\n",
       " 't',\n",
       " 'than',\n",
       " 'that',\n",
       " \"that'll\",\n",
       " 'the',\n",
       " 'their',\n",
       " 'theirs',\n",
       " 'them',\n",
       " 'themselves',\n",
       " 'then',\n",
       " 'there',\n",
       " 'these',\n",
       " 'they',\n",
       " \"they'd\",\n",
       " \"they'll\",\n",
       " \"they're\",\n",
       " \"they've\",\n",
       " 'this',\n",
       " 'those',\n",
       " 'through',\n",
       " 'to',\n",
       " 'too',\n",
       " 'under',\n",
       " 'until',\n",
       " 'up',\n",
       " 've',\n",
       " 'very',\n",
       " 'was',\n",
       " 'wasn',\n",
       " \"wasn't\",\n",
       " 'we',\n",
       " \"we'd\",\n",
       " \"we'll\",\n",
       " \"we're\",\n",
       " 'were',\n",
       " 'weren',\n",
       " \"weren't\",\n",
       " \"we've\",\n",
       " 'what',\n",
       " 'when',\n",
       " 'where',\n",
       " 'which',\n",
       " 'while',\n",
       " 'who',\n",
       " 'whom',\n",
       " 'why',\n",
       " 'will',\n",
       " 'with',\n",
       " 'won',\n",
       " \"won't\",\n",
       " 'wouldn',\n",
       " \"wouldn't\",\n",
       " 'y',\n",
       " 'you',\n",
       " \"you'd\",\n",
       " \"you'll\",\n",
       " 'your',\n",
       " \"you're\",\n",
       " 'yours',\n",
       " 'yourself',\n",
       " 'yourselves',\n",
       " \"you've\"]"
      ]
     },
     "execution_count": 6,
     "metadata": {},
     "output_type": "execute_result"
    }
   ],
   "source": [
    "# use defference language english, spanish,....\n",
    "stopwords.words('english')"
   ]
  },
  {
   "cell_type": "code",
   "execution_count": 7,
   "id": "d178ebe7",
   "metadata": {},
   "outputs": [],
   "source": [
    "from nltk.tokenize import sent_tokenize\n",
    "from nltk.stem import PorterStemmer\n",
    "stemmer = PorterStemmer()\n"
   ]
  },
  {
   "cell_type": "code",
   "execution_count": 11,
   "id": "1bea063b",
   "metadata": {},
   "outputs": [],
   "source": [
    "sentences = nltk.sent_tokenize(corpus)"
   ]
  },
  {
   "cell_type": "code",
   "execution_count": 12,
   "id": "58bc6e19",
   "metadata": {},
   "outputs": [
    {
     "data": {
      "text/plain": [
       "list"
      ]
     },
     "execution_count": 12,
     "metadata": {},
     "output_type": "execute_result"
    }
   ],
   "source": [
    "type(sentences)"
   ]
  },
  {
   "cell_type": "code",
   "execution_count": 13,
   "id": "cc5c949a",
   "metadata": {},
   "outputs": [],
   "source": [
    "## Apply Stowords And Filtter And then Apply Stemming\n",
    "\n",
    "for i in range(len(sentences)):\n",
    "    words = nltk.word_tokenize(sentences[i])\n",
    "    words =[stemmer.stem(word) for word in words if word not in set(stopwords.words('English'))]\n",
    "    sentences[i]= ' ' .join(words) # converting all the words into sentences\n",
    "    "
   ]
  },
  {
   "cell_type": "code",
   "execution_count": 14,
   "id": "c5d0f9a4",
   "metadata": {},
   "outputs": [
    {
     "data": {
      "text/plain": [
       "['sindhutai sapkal born novemb 14 , 1948 , poor famili maharashtra .',\n",
       " 'she face discrimin girl struggl get educ .',\n",
       " 'her father support secretli studi , even though mother oppos .',\n",
       " 'she marri age 12 man 20 year older .',\n",
       " 'her life marriag fill hardship abus .',\n",
       " 'at age 20 , abandon husband pregnant .',\n",
       " 'she gave birth cowsh , alon helpless .',\n",
       " 'left noth , began beg railway station templ .',\n",
       " 'dure time , saw mani orphan children suffer like .',\n",
       " 'she start adopt care orphan children .',\n",
       " 'over time , becam known “ mother orphans. ” she rais 1,500 orphan children throughout life .',\n",
       " 'to support , gave speech use money feed .',\n",
       " 'she turn pain mission love , strength , care .',\n",
       " 'her work receiv nation recognit mani award , includ padma shri .',\n",
       " 'sindhutai ’ stori true exampl courag , compass , selfless servic .',\n",
       " '-- -']"
      ]
     },
     "execution_count": 14,
     "metadata": {},
     "output_type": "execute_result"
    }
   ],
   "source": [
    "sentences"
   ]
  },
  {
   "cell_type": "code",
   "execution_count": 15,
   "id": "902eb8b4",
   "metadata": {},
   "outputs": [],
   "source": [
    "from nltk.stem import SnowballStemmer\n",
    "SnowballStemmer= SnowballStemmer('english')"
   ]
  },
  {
   "cell_type": "code",
   "execution_count": null,
   "id": "eee27433",
   "metadata": {},
   "outputs": [],
   "source": [
    "## Apply Stowords And Filtter And then Apply snowballstemmer\n",
    "for i in range(len(sentences)):\n",
    "    words = nltk.word_tokenize(sentences[i])\n",
    "    words =[SnowballStemmer.stem(word) for word in words if word not in set(stopwords.words('English'))]\n",
    "    sentences[i]= ' ' .join(words) # converting all the words into sentences"
   ]
  },
  {
   "cell_type": "code",
   "execution_count": 32,
   "id": "90e64810",
   "metadata": {},
   "outputs": [
    {
     "data": {
      "text/plain": [
       "['sindhutai sapkal born novemb 14 , 1948 , poor famili maharashtra .',\n",
       " 'face discrimin girl struggl get educ .',\n",
       " 'father support secret studi , even though mother oppo .',\n",
       " 'marri age 12 man 20 year older .',\n",
       " 'life marriag fill hardship abus .',\n",
       " 'age 20 , abandon husband pregnant .',\n",
       " 'gave birth cowsh , alon helpless .',\n",
       " 'left noth , began beg railway station templ .',\n",
       " 'dure time , saw mani orphan children suffer like .',\n",
       " 'start adopt care orphan children .',\n",
       " 'time , becam known “ mother orphan . ” rai 1,500 orphan children throughout life .',\n",
       " 'support , gave speech use money feed .',\n",
       " 'turn pain mission love , strength , care .',\n",
       " 'work receiv nation recognit mani award , includ padma shri .',\n",
       " 'sindhutai ’ stori true exampl courag , compass , selfless servic .',\n",
       " '-- -']"
      ]
     },
     "execution_count": 32,
     "metadata": {},
     "output_type": "execute_result"
    }
   ],
   "source": [
    "sentences"
   ]
  },
  {
   "cell_type": "code",
   "execution_count": 34,
   "id": "fadb0600",
   "metadata": {},
   "outputs": [],
   "source": [
    "from nltk.stem import WordNetLemmatizer\n",
    "Lemmatizer = WordNetLemmatizer()"
   ]
  },
  {
   "cell_type": "code",
   "execution_count": 35,
   "id": "dfce0c51",
   "metadata": {},
   "outputs": [],
   "source": [
    "## apply stopwords filter ND then apply lammtizer\n",
    "for i in range(len(sentences)):\n",
    "    words = nltk.word_tokenize(sentences[i])\n",
    "    words =[Lemmatizer.lemmatize(word.lower(),pos='v') for word in words if word not in set(stopwords.words('English'))]"
   ]
  },
  {
   "cell_type": "code",
   "execution_count": 36,
   "id": "10996a68",
   "metadata": {},
   "outputs": [
    {
     "data": {
      "text/plain": [
       "['sindhutai sapkal born novemb 14 , 1948 , poor famili maharashtra .',\n",
       " 'face discrimin girl struggl get educ .',\n",
       " 'father support secret studi , even though mother oppo .',\n",
       " 'marri age 12 man 20 year older .',\n",
       " 'life marriag fill hardship abus .',\n",
       " 'age 20 , abandon husband pregnant .',\n",
       " 'gave birth cowsh , alon helpless .',\n",
       " 'left noth , began beg railway station templ .',\n",
       " 'dure time , saw mani orphan children suffer like .',\n",
       " 'start adopt care orphan children .',\n",
       " 'time , becam known “ mother orphan . ” rai 1,500 orphan children throughout life .',\n",
       " 'support , gave speech use money feed .',\n",
       " 'turn pain mission love , strength , care .',\n",
       " 'work receiv nation recognit mani award , includ padma shri .',\n",
       " 'sindhutai ’ stori true exampl courag , compass , selfless servic .',\n",
       " '-- -']"
      ]
     },
     "execution_count": 36,
     "metadata": {},
     "output_type": "execute_result"
    }
   ],
   "source": [
    "sentences"
   ]
  }
 ],
 "metadata": {
  "kernelspec": {
   "display_name": ".venv",
   "language": "python",
   "name": "python3"
  },
  "language_info": {
   "codemirror_mode": {
    "name": "ipython",
    "version": 3
   },
   "file_extension": ".py",
   "mimetype": "text/x-python",
   "name": "python",
   "nbconvert_exporter": "python",
   "pygments_lexer": "ipython3",
   "version": "3.10.0"
  }
 },
 "nbformat": 4,
 "nbformat_minor": 5
}

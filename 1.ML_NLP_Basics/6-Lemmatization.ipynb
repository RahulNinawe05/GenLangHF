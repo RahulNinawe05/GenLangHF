{
 "cells": [
  {
   "cell_type": "markdown",
   "id": "eb3e7a80",
   "metadata": {},
   "source": [
    "## Wordnet Lemmatization\n",
    "Lemmitazation techanique is like stemming. the o/p we will get after lemmatization is called lemma which is a root word rather than root stem\n",
    "\n",
    "- **Lemmatization = smarter version of stemming that gives real, meaningful root words based on grammar.**\n",
    "\n",
    "### Key Points\n",
    "\n",
    "1. **Definition**:\n",
    "    - **Lemmatization**: The process of converting a word to its base form (lemma) using vocabulary and morphological analysis.\n",
    "    - Example: The words \"running\" and \"ran\" are both reduced to the lemma \"run\".\n",
    "\n",
    "2. **Difference from Stemming**:\n",
    "    - **Stemming**: A simpler process that chops off the end of words, often resulting in non-real words.\n",
    "    - **Lemmatization**: Provides actual words as output, ensuring meaningful transformations.\n",
    "\n",
    "3. **Process**:\n",
    "    - Involves using a dictionary or a lexical resource to look up the base form.\n",
    "    - Considers the context and part of speech (POS) of a word to ensure accurate transformation.\n",
    "\n",
    "### UseCase: Q&A,Chatbot"
   ]
  },
  {
   "cell_type": "code",
   "execution_count": null,
   "id": "bb831a8e",
   "metadata": {},
   "outputs": [],
   "source": [
    "## Q&A , chatbot , text summarixation.\n",
    "from nltk.stem import WordNetLemmatizer"
   ]
  },
  {
   "cell_type": "code",
   "execution_count": null,
   "id": "551899f7",
   "metadata": {},
   "outputs": [],
   "source": [
    "import nltk\n",
    "nltk.download('wordnet') # Meaning,Synonym,Antonym,Usage,Related words grammer sentence like that"
   ]
  },
  {
   "cell_type": "code",
   "execution_count": null,
   "id": "c393ab01",
   "metadata": {},
   "outputs": [],
   "source": [
    "############ nltk.download('omw-1.4')# not recomended"
   ]
  },
  {
   "cell_type": "code",
   "execution_count": null,
   "id": "ae8dc664",
   "metadata": {},
   "outputs": [],
   "source": [
    "lemmatizer=WordNetLemmatizer()"
   ]
  },
  {
   "cell_type": "code",
   "execution_count": null,
   "id": "d138b903",
   "metadata": {},
   "outputs": [],
   "source": [
    "'''\n",
    "POS - \n",
    "Noun-n\n",
    "verb-v\n",
    "adjective-a\n",
    "adverb - r\n",
    "'''\n",
    "lemmatizer.lemmatize(\"going\", pos='v')"
   ]
  },
  {
   "cell_type": "code",
   "execution_count": null,
   "id": "c0cd31d6",
   "metadata": {},
   "outputs": [],
   "source": [
    "words=[\"eating\",\"eats\",\"eaten\",\"writing\",\"writes\",\"programming\",\"programs\",\"history\",\"finally\",\"finalized\"]"
   ]
  },
  {
   "cell_type": "code",
   "execution_count": null,
   "id": "b5792290",
   "metadata": {},
   "outputs": [],
   "source": [
    "for word in words:\n",
    "    print(word+\"---->\"+lemmatizer.lemmatize(word, pos='v'))"
   ]
  },
  {
   "cell_type": "code",
   "execution_count": null,
   "id": "61ea26f8",
   "metadata": {},
   "outputs": [],
   "source": [
    "lemmatizer.lemmatize(\"goes\",pos='v')"
   ]
  }
 ],
 "metadata": {
  "kernelspec": {
   "display_name": "venv",
   "language": "python",
   "name": "python3"
  },
  "language_info": {
   "codemirror_mode": {
    "name": "ipython",
    "version": 3
   },
   "file_extension": ".py",
   "mimetype": "text/x-python",
   "name": "python",
   "nbconvert_exporter": "python",
   "pygments_lexer": "ipython3",
   "version": "3.13.1"
  }
 },
 "nbformat": 4,
 "nbformat_minor": 5
}

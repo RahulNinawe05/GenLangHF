{
 "cells": [
  {
   "cell_type": "markdown",
   "id": "a35ae5ae",
   "metadata": {},
   "source": [
    "## Stemming\n",
    "Stemming is the process of reducing a word to its base/root form, usually by removing suffixes like -ing, -ed, -s, etc.\n",
    "#### Useful:\n",
    "- **Search engines**\n",
    "- **Text classification**\n",
    "- **Sentiment analysis**\n",
    "\n",
    "#### Example\n",
    "- playing → play  \n",
    "- played → play  \n",
    "- plays → play  \n",
    "- player → player\n"
   ]
  },
  {
   "cell_type": "code",
   "execution_count": 43,
   "id": "f2448080",
   "metadata": {},
   "outputs": [],
   "source": [
    "## Classification Problem\n",
    "## Comments of product is a positive review or negative review\n",
    "## Reviews----> eating, eat,eaten [going,gone,goes]--->go\n",
    "text=[\"running\", \"ran\", \"runs\", \"talking\", \"talked\", \"talks\", \"driving\", \"drove\", \"drives\", \n",
    "\"reading\", \"read\", \"reads\", \"sleeping\", \"slept\", \"sleeps\", \n",
    "\"eating\", \"ate\", \"eats\", \"writing\", \"wrote\", \"writes\", \n",
    "\"coding\", \"coded\", \"codes\", \"drawing\", \"walking\", \"walked\", \"walks\", \"laughing\", \"laughed\", \"laughs\"\n",
    "]"
   ]
  },
  {
   "cell_type": "markdown",
   "id": "9718919b",
   "metadata": {},
   "source": [
    "### PorterStemmer\n",
    "#### It is used to reduce words to their root (stem) form by removing common endings like:\n",
    "\n",
    "- ing (playing → play)\n",
    "\n",
    "- ed (played → play)\n",
    "\n",
    "- es (wishes → wish)\n",
    "\n",
    "- ly (quickly → quick)"
   ]
  },
  {
   "cell_type": "code",
   "execution_count": null,
   "id": "1e139898",
   "metadata": {},
   "outputs": [],
   "source": [
    "### porterStermer use it\n",
    "from nltk.stem import PorterStemmer"
   ]
  },
  {
   "cell_type": "code",
   "execution_count": null,
   "id": "17e8dd17",
   "metadata": {},
   "outputs": [],
   "source": [
    "stemming=PorterStemmer()"
   ]
  },
  {
   "cell_type": "code",
   "execution_count": null,
   "id": "36a9716c",
   "metadata": {},
   "outputs": [],
   "source": [
    "for word in text:\n",
    "    print(word+\"---->\"+stemming.stem(word))"
   ]
  },
  {
   "cell_type": "code",
   "execution_count": null,
   "id": "bf25b712",
   "metadata": {},
   "outputs": [],
   "source": [
    "stemming.stem(\"congratulation\")"
   ]
  },
  {
   "cell_type": "code",
   "execution_count": null,
   "id": "0d8c499f",
   "metadata": {},
   "outputs": [],
   "source": [
    "# this is disadavantages becouse does not mining of this word\n",
    "# sset, congratul, .... like that."
   ]
  },
  {
   "cell_type": "markdown",
   "id": "07c34155",
   "metadata": {},
   "source": [
    "### Regexp Stemmer\n",
    "\n",
    "A **Regexp Stemmer** is a simple, rule-based stemmer that uses regular expressions (regex) to remove suffixes or prefixes from words to get the base form.\n",
    "\n",
    "#### Key Points:\n",
    "- **Rule-based**: Uses regex patterns to identify and remove word parts.\n",
    "- **Simple**: Easy to implement and understand.\n",
    "\n",
    "#### Example:\n",
    "With the regex pattern `'(ing|ed|s)$'`:\n",
    "- **Running** -> **Run**\n",
    "- **Baked** -> **Bake**\n",
    "- **Cats** -> **Cat**\n"
   ]
  },
  {
   "cell_type": "code",
   "execution_count": null,
   "id": "c453a5a0",
   "metadata": {},
   "outputs": [],
   "source": [
    "from nltk.stem import RegexpStemmer"
   ]
  },
  {
   "cell_type": "code",
   "execution_count": null,
   "id": "dd2573b3",
   "metadata": {},
   "outputs": [],
   "source": [
    "sentence = \"I am loving and playing while eating and working.\""
   ]
  },
  {
   "cell_type": "code",
   "execution_count": null,
   "id": "c5348534",
   "metadata": {},
   "outputs": [],
   "source": [
    "## You can Change It All of Us\n",
    "## RegexpStemmer == regular expretion = remove it .use $ sign {'ing$|s$|e$|able$'}\n",
    "reg_stemmer=RegexpStemmer('ing$', min=4) # min == less than 4 character use "
   ]
  },
  {
   "cell_type": "code",
   "execution_count": null,
   "id": "48ed61e3",
   "metadata": {},
   "outputs": [],
   "source": [
    "word_spilt = sentence.split()"
   ]
  },
  {
   "cell_type": "code",
   "execution_count": null,
   "id": "50c00678",
   "metadata": {},
   "outputs": [],
   "source": [
    "word_stemmer = [reg_stemmer.stem(word) for word in word_spilt]\n",
    "print(word_stemmer)"
   ]
  },
  {
   "cell_type": "code",
   "execution_count": null,
   "id": "306d9884",
   "metadata": {},
   "outputs": [],
   "source": []
  },
  {
   "cell_type": "code",
   "execution_count": null,
   "id": "534bee30",
   "metadata": {},
   "outputs": [],
   "source": [
    "## only last Remove\n",
    "reg_stemmer.stem('ingeating')"
   ]
  },
  {
   "cell_type": "markdown",
   "id": "5b8d27f2",
   "metadata": {},
   "source": [
    "### Snowball Stemmer\n",
    "\n",
    "The **Snowball Stemmer** is an advanced and efficient stemming algorithm for handling complex linguistic patterns in multiple languages.\n",
    "\n",
    "#### Key Points:\n",
    "- **Algorithmic**: Uses detailed rules for stemming.\n",
    "- **Versatile**: Supports multiple languages.\n",
    "- **Effective**: Handles complex word structures.\n",
    "\n",
    "#### Example:\n",
    "- **Running** -> **Run**\n",
    "- **Baked** -> **Bake**\n",
    "- **fairly** -> **Fair**\n",
    "\n",
    "### Pros and Cons\n",
    "- **Pros**: Accurate, multi-language support.\n",
    "- **Cons**: Slower than simpler stemmers."
   ]
  },
  {
   "cell_type": "code",
   "execution_count": 50,
   "id": "1c0b4fa3",
   "metadata": {},
   "outputs": [],
   "source": [
    "##snowball Stemmer\n",
    "from nltk.stem import SnowballStemmer"
   ]
  },
  {
   "cell_type": "code",
   "execution_count": 51,
   "id": "fbaabe96",
   "metadata": {},
   "outputs": [],
   "source": [
    "SnowballStemmer=SnowballStemmer('russian')"
   ]
  },
  {
   "cell_type": "code",
   "execution_count": 52,
   "id": "8b94db45",
   "metadata": {},
   "outputs": [
    {
     "name": "stdout",
     "output_type": "stream",
     "text": [
      "running---->running\n",
      "ran---->ran\n",
      "runs---->runs\n",
      "talking---->talking\n",
      "talked---->talked\n",
      "talks---->talks\n",
      "driving---->driving\n",
      "drove---->drove\n",
      "drives---->drives\n",
      "reading---->reading\n",
      "read---->read\n",
      "reads---->reads\n",
      "sleeping---->sleeping\n",
      "slept---->slept\n",
      "sleeps---->sleeps\n",
      "eating---->eating\n",
      "ate---->ate\n",
      "eats---->eats\n",
      "writing---->writing\n",
      "wrote---->wrote\n",
      "writes---->writes\n",
      "coding---->coding\n",
      "coded---->coded\n",
      "codes---->codes\n",
      "drawing---->drawing\n",
      "walking---->walking\n",
      "walked---->walked\n",
      "walks---->walks\n",
      "laughing---->laughing\n",
      "laughed---->laughed\n",
      "laughs---->laughs\n"
     ]
    }
   ],
   "source": [
    "for word in text:\n",
    "    print(word+\"---->\"+SnowballStemmer.stem(word))"
   ]
  },
  {
   "cell_type": "code",
   "execution_count": null,
   "id": "f418b6c5",
   "metadata": {},
   "outputs": [],
   "source": [
    "stemming.stem(\"fairly\"),stemming.stem(\"sportigly\")"
   ]
  },
  {
   "cell_type": "code",
   "execution_count": null,
   "id": "250444a1",
   "metadata": {},
   "outputs": [],
   "source": [
    "SnowballStemmer.stem(\"fairly\"),SnowballStemmer.stem(\"sportigly\")"
   ]
  }
 ],
 "metadata": {
  "kernelspec": {
   "display_name": "venv",
   "language": "python",
   "name": "python3"
  },
  "language_info": {
   "codemirror_mode": {
    "name": "ipython",
    "version": 3
   },
   "file_extension": ".py",
   "mimetype": "text/x-python",
   "name": "python",
   "nbconvert_exporter": "python",
   "pygments_lexer": "ipython3",
   "version": "3.13.1"
  }
 },
 "nbformat": 4,
 "nbformat_minor": 5
}
